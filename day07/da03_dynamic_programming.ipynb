{
 "cells": [
  {
   "cell_type": "markdown",
   "metadata": {},
   "source": [
    "### DP(Dynamic Programming) : 동적 계획법\n",
    "- 연산의 수는 줄이고 최적의 결과를 도출할 수 있는 문제 해결방법"
   ]
  },
  {
   "cell_type": "markdown",
   "metadata": {},
   "source": [
    "#### Memoization\n",
    "\n",
    "|보석 종류|무게(kg)|가격(억)|\n",
    "|:--:|--:|--:|\n",
    "|금괴|6|13|\n",
    "|수정|4|8|\n",
    "|루비|3|6|\n",
    "|진주|5|12|"
   ]
  },
  {
   "cell_type": "code",
   "execution_count": 1,
   "metadata": {},
   "outputs": [
    {
     "data": {
      "text/plain": [
       "[[0, 0, 0, 0, 0, 0, 0, 0],\n",
       " [0, 0, 0, 0, 0, 0, 0, 0],\n",
       " [0, 0, 0, 0, 0, 0, 0, 0],\n",
       " [0, 0, 0, 0, 0, 0, 0, 0],\n",
       " [0, 0, 0, 0, 0, 0, 0, 0]]"
      ]
     },
     "execution_count": 1,
     "metadata": {},
     "output_type": "execute_result"
    }
   ],
   "source": [
    "# 배열 초기화 (행은 보석갯수, 열은 0Kg~7Kg)\n",
    "ary = [[0 for _ in range(8)] for _ in range(5)]\n",
    "ary"
   ]
  },
  {
   "cell_type": "code",
   "execution_count": null,
   "metadata": {},
   "outputs": [
    {
     "name": "stdout",
     "output_type": "stream",
     "text": [
      "## 메모이제이션 배열 ##\n",
      "보석 1개 0 0 0 0 0 13 13 \n",
      "보석 2개 0 0 0 8 8 13 13 \n",
      "보석 3개 0 0 6 8 8 13 14 \n",
      "보석 4개 0 0 6 8 12 13 14 \n",
      "\n",
      "배낭에 담을 수 있는 보석의 최대 가격 --> 14 억원\n"
     ]
    }
   ],
   "source": [
    "# 변수 선언\n",
    "maxWeight = 7\n",
    "rowCount = 4\n",
    "weight = [0, 6, 4, 3, 5]    # 보석무게[0, 금괴, 수정, 루비, 진주]\n",
    "price = [0, 13, 8, 6, 12]   # 보석가치[0, 금괴, 수정, 루비, 진주]\n",
    "\n",
    "# 함수 선언\n",
    "def knapsack():\n",
    "    print('## 메모이제이션 배열 ##')\n",
    "    array = [[0 for _ in range(maxWeight+1)] for _ in range(rowCount+1)]\n",
    "\n",
    "    for row in range(1,rowCount+1): # 1~4(보석개수)\n",
    "        print(f'보석 {row}개', end =' ')\n",
    "        for col in range(1,maxWeight+1):    # 1~7(kg)\n",
    "            if weight[row] > col :  # 보석의 무게가 무거워서 가방에 못들어가면 위에거 가져와\n",
    "                array[row][col] = array[row-1][col]\n",
    "            else :  # 가방에 들어간다면\n",
    "                value1 = price[row] + array[row-1][col-weight[row]] # 내거 일단 넣고, 가방무게 - 보석무게 했을때 무언가가 들어갈 수 있다면 그 금액을 가져와\n",
    "                value2 = array[row-1][col]                          # 내 위에녀석 얼마인지 데려와\n",
    "                array[row][col] = max(value1,value2)                # 두가지 경우의 수 중에 더 비싼걸로 넣자.\n",
    "            print(f'{array[row][col]}', end= ' ')   \n",
    "        print()\n",
    "    return array[rowCount][maxWeight]                               # 마지막이 제일 큰 수.\n",
    "\n",
    "maxValue = knapsack()\n",
    "print()\n",
    "print('배낭에 담을 수 있는 보석의 최대 가격 -->',maxValue, '억원')"
   ]
  },
  {
   "cell_type": "markdown",
   "metadata": {},
   "source": [
    "#### 피보나치 수열로 비교"
   ]
  },
  {
   "cell_type": "code",
   "execution_count": 9,
   "metadata": {},
   "outputs": [
    {
     "name": "stdout",
     "output_type": "stream",
     "text": [
      "2692537\n",
      "29\n"
     ]
    }
   ],
   "source": [
    "count_rc , count_dp = 0 , 0\n",
    "\n",
    "def rc_fibo(n):\n",
    "    global count_rc\n",
    "    count_rc += 1\n",
    "    if n < 2: \n",
    "        return 1\n",
    "    else:\n",
    "        return rc_fibo(n-2) + rc_fibo(n-1)\n",
    "\n",
    "def dp_fibo(n):\n",
    "    global count_dp\n",
    "    memo = [1, 1]\n",
    "    if n < 2:\n",
    "        return memo[n]\n",
    "    else:\n",
    "        for i in range(2,n+1):\n",
    "            memo.append(memo[i-1]+memo[i-2])\n",
    "            count_dp += 1\n",
    "        return memo[n]\n",
    "    \n",
    "\n",
    "rc_fibo(30)\n",
    "dp_fibo(30)\n",
    "\n",
    "print(count_rc)\n",
    "print(count_dp)\n",
    "\n"
   ]
  }
 ],
 "metadata": {
  "kernelspec": {
   "display_name": "3.11.9",
   "language": "python",
   "name": "python3"
  },
  "language_info": {
   "codemirror_mode": {
    "name": "ipython",
    "version": 3
   },
   "file_extension": ".py",
   "mimetype": "text/x-python",
   "name": "python",
   "nbconvert_exporter": "python",
   "pygments_lexer": "ipython3",
   "version": "3.11.9"
  }
 },
 "nbformat": 4,
 "nbformat_minor": 2
}
