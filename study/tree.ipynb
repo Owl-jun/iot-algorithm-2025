{
 "cells": [
  {
   "cell_type": "markdown",
   "metadata": {},
   "source": [
    "### 이진 트리\n",
    "\n",
    "- 이진 트리\n",
    "\n",
    "    - 노드 - 간선(edge) , 차수(degree) , 깊이&높이(level) , 리프 , 서브트리 등 용어 뜻 이해. 아래 이미지참고\n",
    "\n",
    "    - ![tree](./tree.webp)\n",
    "\n",
    "\n",
    "    - 각 노드의 최대 차수가 2인 트리를 이진트리(binary tree)라 한다."
   ]
  },
  {
   "cell_type": "markdown",
   "metadata": {},
   "source": [
    "### 이진 트리의 종류\n",
    "\n",
    "- 포화 이진 트리\n",
    "\n",
    "    - 모든 노드가 꽉 차있는 상태.\n",
    "\n",
    "    - 노드의 개수를 구하는 공식은 다음과 같다. \n",
    "        - $2^n - 1$ ( n = 높이 )\n",
    "\n",
    "        - why? 높이가 늘어날 때 마다, $2^n$ 만큼 노드가 증가하지만, 부모노드에는 1개의 노드가 있기 때문에 -1을 해준다.\n",
    "\n",
    "        - 각 레벨 별로 왼쪽 -> 오른쪽 순으로 번호를 부여할 수 있다.\n",
    "\n",
    "- 완전 이진 트리\n",
    "\n",
    "    - 왼쪽부터 차례대로 채워진 트리. 마지막 레벨을 제외한 모든 레벨이 꽉 차 있어야하며, 마지막 레벨의 노드들은 왼쪽부터 순서대로 채워져야 한다.\n",
    "\n",
    "    - 순서대로 꽉 차있기 때문에 배열로 쉽게 표현이 가능하다는 특징이 있다.\n",
    "\n",
    "- 편향 이진 트리\n",
    "\n",
    "    - 모든 노드가 오른쪽이나 왼쪽으로 연결된 트리 (한쪽으로 크게 치우쳐진 모습)"
   ]
  },
  {
   "cell_type": "code",
   "execution_count": 1,
   "metadata": {},
   "outputs": [
    {
     "name": "stdout",
     "output_type": "stream",
     "text": [
      "Node(1) -> Left: 2, Right: 3\n",
      "Node(2) -> Left: 4, Right: 5\n",
      "Node(3) -> Left: 6, Right: 7\n",
      "Node(4) -> Left: None, Right: None\n",
      "Node(5) -> Left: None, Right: None\n",
      "Node(6) -> Left: None, Right: None\n",
      "Node(7) -> Left: None, Right: None\n",
      "Node(1) -> Left: 2, Right: 3\n",
      "Node(2) -> Left: 4, Right: 5\n",
      "Node(3) -> Left: 6, Right: 7\n",
      "Node(4) -> Left: None, Right: None\n",
      "Node(5) -> Left: None, Right: None\n",
      "Node(6) -> Left: None, Right: None\n",
      "Node(7) -> Left: None, Right: None\n"
     ]
    }
   ],
   "source": [
    "# 완전이진트리 구현해보기\n",
    "\n",
    "class TreeNode:\n",
    "    nodes = []  # 모든 노드를 저장하는 리스트 (인덱스로 부모 찾기)\n",
    "    count = 0   # 노드 개수 (클래스 변수)\n",
    "\n",
    "    def __init__(self, value):\n",
    "        self.value = value\n",
    "        self.left = None\n",
    "        self.right = None\n",
    "\n",
    "        # 현재 노드를 리스트에 추가\n",
    "        TreeNode.nodes.append(self)\n",
    "        self.index = TreeNode.count  # 현재 노드의 인덱스\n",
    "        TreeNode.count += 1  # count 증가\n",
    "\n",
    "        # 부모 노드 찾기 (루트는 부모 없음)\n",
    "        if self.index == 0:\n",
    "            return\n",
    "\n",
    "        parent_index = (self.index - 1) // 2\n",
    "        parent = TreeNode.nodes[parent_index]  # 부모 노드 가져오기\n",
    "\n",
    "        # 부모 노드의 왼쪽이 비었으면 왼쪽으로 연결, 아니면 오른쪽으로 연결\n",
    "        if parent.left is None:\n",
    "            parent.left = self\n",
    "        else:\n",
    "            parent.right = self\n",
    "\n",
    "    def __str__(self):\n",
    "        left_val = self.left.value if self.left else \"None\"\n",
    "        right_val = self.right.value if self.right else \"None\"\n",
    "        return f\"Node({self.value}) -> Left: {left_val}, Right: {right_val}\"\n",
    "\n",
    "    @classmethod\n",
    "    def print_tree(cls):\n",
    "        for node in cls.nodes:\n",
    "            print(node)\n",
    "\n",
    "tree = TreeNode(1)\n",
    "TreeNode(2)\n",
    "TreeNode(3)\n",
    "TreeNode(4)\n",
    "TreeNode(5)\n",
    "TreeNode(6)\n",
    "TreeNode(7)\n",
    "\n",
    "TreeNode.print_tree()\n",
    "tree.print_tree()\n",
    "\n"
   ]
  }
 ],
 "metadata": {
  "kernelspec": {
   "display_name": "3.11.9",
   "language": "python",
   "name": "python3"
  },
  "language_info": {
   "codemirror_mode": {
    "name": "ipython",
    "version": 3
   },
   "file_extension": ".py",
   "mimetype": "text/x-python",
   "name": "python",
   "nbconvert_exporter": "python",
   "pygments_lexer": "ipython3",
   "version": "3.11.9"
  }
 },
 "nbformat": 4,
 "nbformat_minor": 2
}
