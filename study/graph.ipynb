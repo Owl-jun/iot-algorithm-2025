{
 "cells": [
  {
   "cell_type": "markdown",
   "metadata": {},
   "source": [
    "### 그래프의 개념\n",
    "- 그래프 : 여러 노드가 서로 연결된 자료구조.\n",
    "    - 트리와 다른 점 : 트리는 루트에서 하위 노드방향 으로만 이루어져있으나, 그래프는 여러노드가 연결되어 있을 수 있음\n",
    "    - 그래프 예시 : 지하철 노선도, 도시도로망, 전기회로도 등등..\n",
    "\n",
    "- 그래프의 종류\n",
    "    - 정점(Vertex) 을 연결하는 간선의 방향성 존부에 따라 방향 그래프 및 무방향 그래프로 나눕니다.\n",
    "    - 간선에 **가중치**를 부여하여 가중치 그래프도 만들 수 있습니다.\n",
    "\n",
    "- 무방향 그래프\n",
    "    - 트리에 노드 == 그래프의 정점\n",
    "    - 정점을 이은 선 == 간선\n",
    "    - 간선에 방향이 없음"
   ]
  },
  {
   "cell_type": "code",
   "execution_count": null,
   "metadata": {},
   "outputs": [],
   "source": [
    "# 무방향 그래프 표현 방법\n",
    "## ()로 묶어 표현하고, (A,B) 와 (B,A) 는 같다.\n",
    "\"\"\"\n",
    "V(G1) = {A,B,C,D}\n",
    "V(G2) = {A,B,C,D}\n",
    "E(G1) = {(A,B),(A,C),(A,D),(B,C),(C,D)}\n",
    "E(G2) = {(A,B),(B,D),(D,C)}\n",
    "\n",
    "G1 =    ABCD 가 모두 연결되어 있다.\n",
    "G2 =    A-B , B-D, D-C\n",
    "\"\"\"\n"
   ]
  },
  {
   "cell_type": "markdown",
   "metadata": {},
   "source": [
    "- 방향 그래프\n",
    "    - 간선에 방향성이 존재하는 그래프"
   ]
  },
  {
   "cell_type": "code",
   "execution_count": null,
   "metadata": {},
   "outputs": [],
   "source": [
    "# 방향 표현 방법\n",
    "## <> 로 묶어 표현하고, <A,B> 와 <B,A> 는 다르다.\n",
    "\"\"\"\n",
    "V(G3) = {A,B,C,D}\n",
    "V(G4) = {A,B,C,D}\n",
    "E(G3) = {<A,B>,<A,C>,<D,A>,<D,C>}\n",
    "E(G4) = {<A,B>,<C,B>,<C,D>}\n",
    "\n",
    "G1 =    ABCD 가 모두 연결되어 있다.\n",
    "G2 =    A-B , B-D, D-C\n",
    "\"\"\""
   ]
  },
  {
   "cell_type": "markdown",
   "metadata": {},
   "source": [
    "- 가중치 그래프\n",
    "    - 간선마다 가중치가 다르게 부여된 그래프를 가중치 그래프 라고 한다.\n",
    "    - 간선마다 가중치가 존재하기 때문에 최대효율 루트를 구할 수 있다.\n",
    "    - ex. 네비게이션의 경우 도로의 정체량 만큼 가중치를 부여하고, 도착지 까지의 루트 중 가중치가 제일 낮은 루트를 찾는 등\n",
    "\n",
    "- 깊이 우선 탐색\n",
    "    - **최대한 깊이 탐색 후 되돌아온다**\n",
    "    - 스택 / 재귀 로 구현이 가능하다."
   ]
  },
  {
   "cell_type": "code",
   "execution_count": null,
   "metadata": {},
   "outputs": [
    {
     "name": "stdout",
     "output_type": "stream",
     "text": [
      "A B D E C F G "
     ]
    }
   ],
   "source": [
    "# 스택 활용 dfs 구현\n",
    "\n",
    "def dfs_stack(graph, start):\n",
    "    visited = []\n",
    "    stack = [start]\n",
    "    while stack:\n",
    "        node = stack.pop()\n",
    "        if node not in visited:\n",
    "            print(node , end =' ')\n",
    "            stack.extend(reversed(graph[node]))\n",
    "        visited.append(node)\n",
    "# 그래프 정의 (동일)\n",
    "graph = {\n",
    "    'A': ['B', 'C'],\n",
    "    'B': ['A', 'D', 'E'],\n",
    "    'C': ['A', 'F', 'G'],\n",
    "    'D': ['B'],\n",
    "    'E': ['B'],\n",
    "    'F': ['C'],\n",
    "    'G': ['C']\n",
    "}\n",
    "\n",
    "dfs_stack(graph, 'A')"
   ]
  }
 ],
 "metadata": {
  "kernelspec": {
   "display_name": "3.11.9",
   "language": "python",
   "name": "python3"
  },
  "language_info": {
   "codemirror_mode": {
    "name": "ipython",
    "version": 3
   },
   "file_extension": ".py",
   "mimetype": "text/x-python",
   "name": "python",
   "nbconvert_exporter": "python",
   "pygments_lexer": "ipython3",
   "version": "3.11.9"
  }
 },
 "nbformat": 4,
 "nbformat_minor": 2
}
