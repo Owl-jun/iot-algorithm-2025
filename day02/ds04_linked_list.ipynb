{
 "cells": [
  {
   "cell_type": "markdown",
   "metadata": {},
   "source": [
    "### 연결리스트(Linked List)\n",
    "\n",
    "- 노드(데이터,링크 쌍)로 다음 데이터를 연결하는 동적 연결방식\n",
    "- 오버헤드가 없어서 매우 빨리 처리"
   ]
  },
  {
   "cell_type": "code",
   "execution_count": null,
   "metadata": {},
   "outputs": [
    {
     "name": "stdout",
     "output_type": "stream",
     "text": [
      "data = 장군 , link = data = 멍군 , link = data = 크하하 , link = <bound method Node.get_link of <__main__.Node object at 0x000001496F0510D0>>\n",
      "<bound method Node.get_link of <__main__.Node object at 0x000001496F0510D0>>\n"
     ]
    }
   ],
   "source": [
    "# 노드 클래스\n",
    "class Node():\n",
    "    def __init__(self):\n",
    "        self.__data = None\n",
    "        self.__link = None\n",
    "    \n",
    "    def __str__(self):\n",
    "        return f'data = {self.__data} , link = {self.__link}'\n",
    "\n",
    "    def get_link(self):\n",
    "        return self.__link\n",
    "        \n",
    "    def set_data(self,data):\n",
    "        self.__data = data\n",
    "    \n",
    "    def set_link(self,link):\n",
    "        self.__link = link\n",
    "\n",
    "node1 = Node()    \n",
    "node2 = Node()\n",
    "node3 = Node()\n",
    "node1.set_data('장군')\n",
    "node1.set_link(node2)\n",
    "node2.set_data('멍군')\n",
    "node2.set_link(node3)\n",
    "node3.set_data('달님')\n",
    "\n",
    "nodehalf = Node()\n",
    "nodehalf.set_data('크하하')\n",
    "nodehalf.set_link(node3)\n",
    "node2.set_link(nodehalf)\n",
    "\n",
    "print(node1)\n",
    "print(node1.get_link().get_link().get_link())\n",
    "\n",
    "\n"
   ]
  },
  {
   "cell_type": "code",
   "execution_count": null,
   "metadata": {},
   "outputs": [],
   "source": []
  }
 ],
 "metadata": {
  "kernelspec": {
   "display_name": "3.11.9",
   "language": "python",
   "name": "python3"
  },
  "language_info": {
   "codemirror_mode": {
    "name": "ipython",
    "version": 3
   },
   "file_extension": ".py",
   "mimetype": "text/x-python",
   "name": "python",
   "nbconvert_exporter": "python",
   "pygments_lexer": "ipython3",
   "version": "3.11.9"
  }
 },
 "nbformat": 4,
 "nbformat_minor": 2
}
