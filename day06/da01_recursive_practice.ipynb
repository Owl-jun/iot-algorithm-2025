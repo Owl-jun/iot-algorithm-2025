{
 "cells": [
  {
   "cell_type": "markdown",
   "metadata": {},
   "source": [
    "### 재귀호출 연습"
   ]
  },
  {
   "cell_type": "code",
   "execution_count": 2,
   "metadata": {},
   "outputs": [
    {
     "name": "stdout",
     "output_type": "stream",
     "text": [
      "5\n",
      "4\n",
      "3\n",
      "2\n",
      "1\n",
      "우주선 발사\n"
     ]
    }
   ],
   "source": [
    "import time\n",
    "\n",
    "def countDown(n):\n",
    "    if n == 0 :\n",
    "        print('우주선 발사')\n",
    "    else:\n",
    "        print(n)\n",
    "        time.sleep(1)\n",
    "        countDown(n-1)\n",
    "\n",
    "countDown(5)"
   ]
  },
  {
   "cell_type": "code",
   "execution_count": 26,
   "metadata": {},
   "outputs": [
    {
     "name": "stdout",
     "output_type": "stream",
     "text": [
      "       *       \n",
      "      ***      \n",
      "     *****     \n",
      "    *******    \n",
      "   *********   \n",
      "  ***********  \n",
      " ************* \n",
      "***************\n"
     ]
    }
   ],
   "source": [
    "def printStar(n):\n",
    "    if n > 0:\n",
    "        printStar(n-2)\n",
    "        p = '*'\n",
    "        print(f'{p*n:^15}', end='')\n",
    "        print()\n",
    "    \n",
    "printStar(15)"
   ]
  },
  {
   "cell_type": "code",
   "execution_count": 38,
   "metadata": {},
   "outputs": [
    {
     "data": {
      "text/plain": [
       "138"
      ]
     },
     "execution_count": 38,
     "metadata": {},
     "output_type": "execute_result"
    }
   ],
   "source": [
    "import random\n",
    "ary = [random.randint(0,100) for _ in range(random.randint(10,20))]\n",
    "\n",
    "def sumAry(n):\n",
    "    if n <= 0:\n",
    "        return ary[0]\n",
    "    else:\n",
    "        return sumAry(n-1) + ary[n]\n",
    "\n",
    "sumAry(3)"
   ]
  },
  {
   "cell_type": "markdown",
   "metadata": {},
   "source": [
    "### 피보나치"
   ]
  },
  {
   "cell_type": "code",
   "execution_count": 43,
   "metadata": {},
   "outputs": [
    {
     "data": {
      "text/plain": [
       "3"
      ]
     },
     "execution_count": 43,
     "metadata": {},
     "output_type": "execute_result"
    }
   ],
   "source": [
    "def fibo(n):\n",
    "    if n == 0:\n",
    "        return 0\n",
    "    elif n == 1:\n",
    "        return 1\n",
    "    else: \n",
    "        return fibo(n-1) + fibo(n-2)\n",
    "\n",
    "fibo(4)"
   ]
  },
  {
   "cell_type": "markdown",
   "metadata": {},
   "source": [
    "### 회문판단"
   ]
  },
  {
   "cell_type": "code",
   "execution_count": 48,
   "metadata": {},
   "outputs": [
    {
     "name": "stdout",
     "output_type": "stream",
     "text": [
      "reaver-> X\n",
      "kayak-> O\n",
      "Borrow or rob-> O\n",
      "주유소의 소유주-> O\n",
      "야 너 이번 주 주번이 너야-> O\n",
      "살금 살금-> X\n"
     ]
    }
   ],
   "source": [
    "strAry = ['reaver','kayak','Borrow or rob','주유소의 소유주', '야 너 이번 주 주번이 너야', '살금 살금']\n",
    "\n",
    "def checkPalindrome(pStr):\n",
    "    if len(pStr) <= 1:\n",
    "        return True\n",
    "    else:\n",
    "        if pStr[0] != pStr[-1]: return False\n",
    "        else: \n",
    "            return checkPalindrome(pStr[1:len(pStr)-1])\n",
    "    \n",
    "for testStr in strAry:\n",
    "    print(testStr, end='-> ')\n",
    "    testStr = testStr.lower().replace(' ','')\n",
    "\n",
    "    if checkPalindrome(testStr):\n",
    "        print('O')\n",
    "    else:\n",
    "        print('X')\n"
   ]
  },
  {
   "cell_type": "markdown",
   "metadata": {},
   "source": [
    "#### 재귀호출 쓰는 이유\n",
    "- 반복문만 가지고 구현이 정말 힘들 때 -> 재귀호출 쓰면 한방에 해결\n",
    "- 수학적인 개념으로 접근하면 점화식(재귀식)을 그대로 소스코드로 구현가능"
   ]
  }
 ],
 "metadata": {
  "kernelspec": {
   "display_name": "3.11.9",
   "language": "python",
   "name": "python3"
  },
  "language_info": {
   "codemirror_mode": {
    "name": "ipython",
    "version": 3
   },
   "file_extension": ".py",
   "mimetype": "text/x-python",
   "name": "python",
   "nbconvert_exporter": "python",
   "pygments_lexer": "ipython3",
   "version": "3.11.9"
  }
 },
 "nbformat": 4,
 "nbformat_minor": 2
}
