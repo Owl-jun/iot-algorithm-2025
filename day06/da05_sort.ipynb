{
 "cells": [
  {
   "cell_type": "markdown",
   "metadata": {},
   "source": [
    "### 정렬 Sort\n",
    "\n",
    "<img src = 'https://upload.wikimedia.org/wikipedia/commons/thumb/8/8e/Merge_sort_animation.gif/220px-Merge_sort_animation.gif' width = 400>\n",
    "\n",
    "- 여러 데이터를 오름차순 혹은 내림차순으로 순서에 맞게 정리하는 것\n",
    "    - 오름차순 (Ascending sort)\n",
    "    - 내림차순 (Descending sort)\n",
    "\n",
    "<!-- 표만들때, :-- 왼쪽정렬 :--: 중앙정렬 --:우측정렬 -->\n",
    "|종류|평균|최선|최악|\n",
    "|:--|:--:|:--:|:--:|\n",
    "|선택정렬|$O(n^2)$|$O(n^2)$|$O(n^2)$|\n",
    "|삽입|$O(n^2)$|$O(n^2)$|$O(n^2)$|\n",
    "|버블|$O(n^2)$|$O(n)$|$O(n^2)$|\n",
    "|퀵|$O(nlogn)$|$O(nlogn)$|$O(n^2)$|\n",
    "|합병|$O(nlogn)$|$O(nlogn)$|$O(nlogn)$|\n",
    "|힙|$O(nlogn)$|$O(nlogn)$|$O(nlogn)$|\n",
    "|쉘|$O(n^{1.25})$|$O(n^{1.25})$|$O(n^{1.25})$|\n",
    "|기수|$(dn)$|$(dn)$|$(dn)$|"
   ]
  },
  {
   "cell_type": "markdown",
   "metadata": {},
   "source": [
    "### 선택정렬\n",
    "\n",
    "- 여러 데이터중 가장 작은 값을 뽑는 과정을 반복하여 정렬하는 방식"
   ]
  },
  {
   "cell_type": "code",
   "execution_count": 1,
   "metadata": {},
   "outputs": [],
   "source": [
    "def findMinIdx(ary):\n",
    "    minIdx = 0\n",
    "    for i in range(1, len(ary)):\n",
    "        if ary[minIdx] > ary[i]:\n",
    "            minIdx = i\n",
    "    return minIdx"
   ]
  },
  {
   "cell_type": "code",
   "execution_count": 2,
   "metadata": {},
   "outputs": [
    {
     "data": {
      "text/plain": [
       "2"
      ]
     },
     "execution_count": 2,
     "metadata": {},
     "output_type": "execute_result"
    }
   ],
   "source": [
    "testAry = [55,88,22,33,77]\n",
    "findMinIdx(testAry)"
   ]
  },
  {
   "cell_type": "code",
   "execution_count": null,
   "metadata": {},
   "outputs": [
    {
     "name": "stdout",
     "output_type": "stream",
     "text": [
      "정렬 전 -> : [188, 162, 168, 120, 50, 150, 177, 105]\n",
      "정렬 후 -> [50, 105, 120, 150, 162, 168, 177, 188]\n"
     ]
    }
   ],
   "source": [
    "## 변수 선언\n",
    "before = [188,162,168,120,50,150,177,105]\n",
    "after = []\n",
    "\n",
    "print(f'정렬 전 -> : {before}')\n",
    "\n",
    "for _ in range(len(before)):\n",
    "    minPos = findMinIdx(before)\n",
    "    after.append(before[minPos])\n",
    "\n",
    "\n",
    "print(f'정렬 후 -> {after}')"
   ]
  },
  {
   "cell_type": "code",
   "execution_count": 18,
   "metadata": {},
   "outputs": [
    {
     "name": "stdout",
     "output_type": "stream",
     "text": [
      "20 10\n"
     ]
    }
   ],
   "source": [
    "a,b = 10, 20\n",
    "def swap(a,b):\n",
    "    return b,a\n",
    "\n",
    "a,b = swap(a,b)\n",
    "print(a,b)\n"
   ]
  },
  {
   "cell_type": "code",
   "execution_count": 26,
   "metadata": {},
   "outputs": [
    {
     "name": "stdout",
     "output_type": "stream",
     "text": [
      "[2, 3, 4, 7]\n"
     ]
    }
   ],
   "source": [
    "tlist = [4,3,2,7]\n",
    "def sortSelection(lst):\n",
    "    n = len(lst)\n",
    "    for i in range(0,n-1):\n",
    "        for j in range(i+1, n):\n",
    "            if lst[i] > lst[j]:\n",
    "                temp = lst[i]\n",
    "                lst[i] = lst[j]\n",
    "                lst[j] = temp\n",
    "    return lst\n",
    "\n",
    "tlist = sortSelection(tlist)\n",
    "print(tlist)"
   ]
  },
  {
   "cell_type": "markdown",
   "metadata": {},
   "source": [
    "### 삽입 정렬\n",
    "\n",
    "- 카드 게임에서 카드를 정렬하는 방식과 비슷하다.\n",
    "- 첫번째 요소는 이미 정렬되었다고 생각하고, 두번째 요소부터 자신의 자리를 찾아 넣고, 더 큰 요소들은 오른쪽으로 밀어버린다."
   ]
  },
  {
   "cell_type": "code",
   "execution_count": 28,
   "metadata": {},
   "outputs": [
    {
     "name": "stdout",
     "output_type": "stream",
     "text": [
      "1회차 : [3, 7, 1, 2, 9]\n",
      "2회차 : [1, 3, 7, 2, 9]\n",
      "3회차 : [1, 2, 3, 7, 9]\n",
      "4회차 : [1, 2, 3, 7, 9]\n"
     ]
    },
    {
     "data": {
      "text/plain": [
       "[1, 2, 3, 7, 9]"
      ]
     },
     "execution_count": 28,
     "metadata": {},
     "output_type": "execute_result"
    }
   ],
   "source": [
    "def insertion_sort(arr):\n",
    "    for i in range(1, len(arr)):\n",
    "        key = arr[i]       # 삽입할 값\n",
    "        j = i - 1          # 정렬된 부분의 끝 인덱스\n",
    "\n",
    "        # 정렬된 부분에서 key보다 큰 원소들은 오른쪽으로 이동\n",
    "        while j >= 0 and arr[j] > key:\n",
    "            arr[j + 1] = arr[j]\n",
    "            j -= 1\n",
    "\n",
    "        arr[j + 1] = key   # 올바른 위치에 key 삽입\n",
    "        print(f'{i}회차 : {arr}')\n",
    "    return arr\n",
    "\n",
    "ary = [3,7,1,2,9]\n",
    "insertion_sort(ary)"
   ]
  },
  {
   "cell_type": "markdown",
   "metadata": {},
   "source": [
    "#### 버블 정렬\n",
    "\n",
    "- 앞 뒤 데이터를 비교해서 큰 값을 뒤로 보내면서 정렬하는 방식\n",
    "- 마치 거품이 보글보글 하는것 같이 생겼다고 해서 버블 정렬이라 한답니다."
   ]
  },
  {
   "cell_type": "code",
   "execution_count": 33,
   "metadata": {},
   "outputs": [
    {
     "name": "stdout",
     "output_type": "stream",
     "text": [
      "[1, 3, 4, 9, 7, 2, 10]\n",
      "[1, 3, 4, 7, 2, 9, 10]\n",
      "[1, 3, 4, 2, 7, 9, 10]\n",
      "[1, 3, 2, 4, 7, 9, 10]\n",
      "[1, 2, 3, 4, 7, 9, 10]\n"
     ]
    },
    {
     "data": {
      "text/plain": [
       "[1, 2, 3, 4, 7, 9, 10]"
      ]
     },
     "execution_count": 33,
     "metadata": {},
     "output_type": "execute_result"
    }
   ],
   "source": [
    "# 함수 정의\n",
    "\n",
    "def sortBubble(ary):\n",
    "    n = len(ary)\n",
    "    for end in range(n-1,0,-1):\n",
    "        isStop = False\n",
    "        for current in range(0,end):\n",
    "            if ary[current] > ary[current+1]:\n",
    "                ary[current], ary[current+1] = ary[current+1], ary[current] # swap~!\n",
    "                isStop=True\n",
    "        if isStop == False:\n",
    "            break\n",
    "        print(ary)\n",
    "    return ary\n",
    "\n",
    "lst = [3,1,9,4,10,7,2]\n",
    "sortBubble(lst)"
   ]
  },
  {
   "cell_type": "markdown",
   "metadata": {},
   "source": [
    "- 다른 정렬은 데이터가 거의 정렬이 다 되어있어도 횟수만큼 동작 $O(n^2)$\n",
    "- 버블 정렬은 데이터가 거의 정렬되있으면 반복횟수를 줄일 수 있다. $O(n)$"
   ]
  },
  {
   "cell_type": "markdown",
   "metadata": {},
   "source": [
    "#### 퀵 정렬\n",
    "- 전체 데이터에서 기준값을 잡고, 기준값보다 작은 값은 왼쪽그룹으로, 큰 값은 오른쪽그룹으로 나누는 작업을 반복해서 정렬하는 방식"
   ]
  },
  {
   "cell_type": "code",
   "execution_count": null,
   "metadata": {},
   "outputs": [
    {
     "name": "stdout",
     "output_type": "stream",
     "text": [
      "[18, 18, 22, 50]\n"
     ]
    },
    {
     "data": {
      "text/plain": [
       "[18, 22, 50]"
      ]
     },
     "execution_count": 14,
     "metadata": {},
     "output_type": "execute_result"
    }
   ],
   "source": [
    "## 중복 포함 버젼\n",
    "def quicksort(ary):\n",
    "    if len(ary) <= 1:\n",
    "        return ary\n",
    "    pivot = ary[len(ary)//2]\n",
    "    equal = [a for a in ary if a == pivot]\n",
    "    left = [a for a in ary if a < pivot]\n",
    "    right = [a for a in ary if a > pivot]\n",
    "    return quicksort(left) + equal + quicksort(right)\n",
    "\n",
    "## 중복 제거 버젼\n",
    "def quick(ary):\n",
    "    if len(ary) <= 1:\n",
    "        return ary\n",
    "    pivot = ary[len(ary)//2]\n",
    "    left = [a for a in ary if a < pivot]\n",
    "    right = [a for a in ary if a > pivot]\n",
    "    return quick(left) + [pivot] + quick(right)\n",
    "\n",
    "data = [18,18,50,22]\n",
    "print(quicksort(data))\n",
    "quick(data)"
   ]
  },
  {
   "cell_type": "code",
   "execution_count": 18,
   "metadata": {},
   "outputs": [
    {
     "data": {
      "text/plain": [
       "[18, 18, 22, 50]"
      ]
     },
     "execution_count": 18,
     "metadata": {},
     "output_type": "execute_result"
    }
   ],
   "source": [
    "def sortQuick(arr,start,end):\n",
    "    if end <= start :\n",
    "        return\n",
    "    \n",
    "    low = start\n",
    "    high = end\n",
    "\n",
    "    pivot = arr[(low+high)//2]\n",
    "    while low <= high :\n",
    "        while arr[low] < pivot:\n",
    "            low += 1\n",
    "        while arr[high] > pivot:\n",
    "            high -= 1\n",
    "        if low <= high:\n",
    "            arr[low],arr[high] = arr[high],arr[low]\n",
    "            low,high = low+1, high-1\n",
    "    \n",
    "    mid = low\n",
    "    sortQuick(arr,start,mid-1)\n",
    "    sortQuick(arr,mid,end)\n",
    "\n",
    "def qSort(ary):\n",
    "    sortQuick(ary,0,len(ary)-1)\n",
    "\n",
    "date = [18,18,50,22]\n",
    "qSort(date)\n",
    "\n",
    "date\n"
   ]
  },
  {
   "cell_type": "markdown",
   "metadata": {},
   "source": [
    "#### 퀵정렬\n",
    "- 최악의 경우는 $O(n^2)$ 이나, 평균적으로 $O(n log n)$의 시간복잡도를 가진다.\n",
    "- 만약 n이 1,000,000개일 경우\n",
    "    - 선택정렬, 삽입정렬 1,000,000,000,000(1조번) 처리\n",
    "    - 퀵 정렬은 약 20,000,000회(2천만회) 처리"
   ]
  },
  {
   "cell_type": "markdown",
   "metadata": {},
   "source": [
    "#### 정렬 응용예\n",
    "- 이진 탐색(Binary search)[이진 트리사용] 검색알고리즘에서 활용\n",
    "- 데이터 분석 : 최소값, 최대값, 중앙값, 분위수 등의 계산시 사용\n",
    "- 데이터베이스 SQL문 : ORDER BY 사용시 내림차순, 오름차순 사용\n",
    "- 파일 정리, 로그 정리\n",
    "- 그래픽 이미지처리 : 이미지 픽셀 밝기 순 정렬, 히스토그램 생성\n",
    "- 네트워크 패킷 처리\n",
    "- 인공지능 머신러닝 : KNN 정렬사용"
   ]
  }
 ],
 "metadata": {
  "kernelspec": {
   "display_name": "3.11.9",
   "language": "python",
   "name": "python3"
  },
  "language_info": {
   "codemirror_mode": {
    "name": "ipython",
    "version": 3
   },
   "file_extension": ".py",
   "mimetype": "text/x-python",
   "name": "python",
   "nbconvert_exporter": "python",
   "pygments_lexer": "ipython3",
   "version": "3.11.9"
  }
 },
 "nbformat": 4,
 "nbformat_minor": 2
}
