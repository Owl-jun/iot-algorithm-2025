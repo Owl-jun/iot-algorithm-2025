{
 "cells": [
  {
   "cell_type": "markdown",
   "metadata": {},
   "source": [
    "### 그래프\n",
    "- 정점(vertex)와 간선(Edge)로 구성된 자료구조\n",
    "- 네비게이션에서 길찾기(거리우선, 시간우선, 금액우선), 링크드인 인맥표시, 지하철 노선도 ...\n",
    "\n",
    "<img src='https://upload.wikimedia.org/wikipedia/commons/thumb/a/a2/Directed.svg/1024px-Directed.svg.png' width = 300>"
   ]
  },
  {
   "cell_type": "markdown",
   "metadata": {
    "vscode": {
     "languageId": "plaintext"
    }
   },
   "source": [
    "- vertex 생성"
   ]
  },
  {
   "cell_type": "code",
   "execution_count": 22,
   "metadata": {},
   "outputs": [],
   "source": [
    "class Graph():\n",
    "    def __init__(self, size):\n",
    "        self.size = size\n",
    "        self.graph = [[0 for _ in range(self.size)] for _ in range(self.size)]\n",
    "        self.nameAry = ['문별','솔라','휘인','쯔위','선미']"
   ]
  },
  {
   "cell_type": "code",
   "execution_count": 24,
   "metadata": {},
   "outputs": [],
   "source": [
    "G1 = Graph(4)"
   ]
  },
  {
   "cell_type": "code",
   "execution_count": 32,
   "metadata": {},
   "outputs": [],
   "source": [
    "문별 = 0 ; 솔라 = 1 ; 휘인 = 2 ; 쯔위 = 3 ; 선미 = 4\n",
    "# G1.graph[A][B] = 1\n",
    "# G1.graph[A][C] = 1\n",
    "# G1.graph[A][D] = 1\n",
    "# G1.graph[B][A] = 1\n",
    "# G1.graph[B][C] = 1\n",
    "\n",
    "# G1.graph[C][A] = 1\n",
    "# G1.graph[C][B] = 1\n",
    "# G1.graph[C][D] = 1\n",
    "# G1.graph[D][A] = 1\n",
    "\n",
    "# G1.graph[D][C] = 1\n",
    "\n",
    "for i in range(G1.size):\n",
    "    for j in range(G1.size):\n",
    "        if i == 3 and j == 1: pass\n",
    "        elif i == 1 and j == 3: pass\n",
    "        elif i != j :\n",
    "            G1.graph[i][j] = 1\n",
    "        \n"
   ]
  },
  {
   "cell_type": "markdown",
   "metadata": {},
   "source": [
    "- 방향그래프"
   ]
  },
  {
   "cell_type": "code",
   "execution_count": 34,
   "metadata": {},
   "outputs": [],
   "source": [
    "G3 = Graph(4)\n",
    "\n",
    "G3.graph[0][1] = 1\n",
    "G3.graph[0][2] = 1\n",
    "G3.graph[3][0] = 1\n",
    "G3.graph[3][2] = 1\n"
   ]
  },
  {
   "cell_type": "code",
   "execution_count": 35,
   "metadata": {},
   "outputs": [
    {
     "name": "stdout",
     "output_type": "stream",
     "text": [
      "## G1 무방향 그래프\n",
      "[0, 1, 1, 1]\n",
      "[1, 0, 1, 0]\n",
      "[1, 1, 0, 1]\n",
      "[1, 0, 1, 0]\n",
      "## G3 방향 그래프\n",
      "[0, 1, 1, 0]\n",
      "[0, 0, 0, 0]\n",
      "[0, 0, 0, 0]\n",
      "[1, 0, 1, 0]\n"
     ]
    }
   ],
   "source": [
    "# G1 인접행렬\n",
    "\n",
    "print('## G1 무방향 그래프')\n",
    "for g1 in G1.graph:\n",
    "    print(g1)\n",
    "print('## G3 방향 그래프')\n",
    "for g3 in G3.graph:\n",
    "    print(g3)"
   ]
  },
  {
   "cell_type": "markdown",
   "metadata": {},
   "source": [
    "- 그래프 개선\n",
    "\n",
    "    - 정점이 인접행렬에서 숫자로 표시되는데, 정점의 이름으로 변경하는 것\n",
    "    - 쉽게 정점이 파악되는 장점"
   ]
  },
  {
   "cell_type": "code",
   "execution_count": 63,
   "metadata": {},
   "outputs": [],
   "source": [
    "# 그래프 출력시 정점표시하는 함수\n",
    "def printGraph(g):  # g: Graph 객체\n",
    "    print('\\t',end=' ')\n",
    "    for ver in range(g.size):\n",
    "        print(g.nameAry[ver], end='\\t')\n",
    "    print()\n",
    "    count = 0\n",
    "    for i in g.graph:\n",
    "        print(f'{g.nameAry[count]}', end='')\n",
    "        count += 1\n",
    "        for j in i:\n",
    "            print(f'\\t {j:>3d}', end = ' ')\n",
    "        print()"
   ]
  },
  {
   "cell_type": "code",
   "execution_count": 64,
   "metadata": {},
   "outputs": [
    {
     "name": "stdout",
     "output_type": "stream",
     "text": [
      "\t 문별\t솔라\t휘인\t쯔위\t\n",
      "문별\t   0 \t   1 \t   1 \t   0 \n",
      "솔라\t   0 \t   0 \t   0 \t   0 \n",
      "휘인\t   0 \t   0 \t   0 \t   0 \n",
      "쯔위\t   1 \t   0 \t   1 \t   0 \n"
     ]
    }
   ],
   "source": [
    "printGraph(G3)"
   ]
  }
 ],
 "metadata": {
  "kernelspec": {
   "display_name": "3.11.9",
   "language": "python",
   "name": "python3"
  },
  "language_info": {
   "codemirror_mode": {
    "name": "ipython",
    "version": 3
   },
   "file_extension": ".py",
   "mimetype": "text/x-python",
   "name": "python",
   "nbconvert_exporter": "python",
   "pygments_lexer": "ipython3",
   "version": "3.11.9"
  }
 },
 "nbformat": 4,
 "nbformat_minor": 2
}
