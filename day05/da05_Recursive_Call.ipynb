{
 "cells": [
  {
   "cell_type": "markdown",
   "metadata": {},
   "source": [
    "### 재귀호출 Recursive Call\n",
    "- 함수 내에서 자신을 다시 호출하는 행위\n",
    "- 호출 될 때마다 스택 프레임이 위로 계속 쌓이기 때문에, 무한반복 되지않도록 설정해주는게 중요. (스택오버플로우 발생)\n",
    "- 스택TOP 까지 함수가 쌓인 후, TOP부터 실행 완료 후, 이전의 스택프레임으로 돌아가 함수가 호출된 시점부터 실행\n",
    "- 반복...\n",
    "\n",
    "- 왜 쓰는가?\n",
    "    - 장점 : 코드량이 획기적으로 줄어들 수 있다.\n",
    "    - 단점 : 과도한 사용시 성능 저하를 야기할 수 있다, 디버깅이 어렵다."
   ]
  },
  {
   "cell_type": "code",
   "execution_count": 13,
   "metadata": {},
   "outputs": [
    {
     "name": "stdout",
     "output_type": "stream",
     "text": [
      "스택이 쌓입니다. 0\n",
      "스택이 쌓입니다. 1\n",
      "스택이 쌓입니다. 2\n",
      "스택이 쌓입니다. 3\n",
      "스택이 쌓입니다. 4\n",
      "스택이 쌓입니다. 5\n",
      "스택이 쌓입니다. 6\n",
      "스택이 쌓입니다. 7\n",
      "스택이 쌓입니다. 8\n",
      "스택이 쌓입니다. 9\n",
      "스택이 해제됩니다.\n",
      "스택이 해제됩니다.\n",
      "스택이 해제됩니다.\n",
      "스택이 해제됩니다.\n",
      "스택이 해제됩니다.\n",
      "스택이 해제됩니다.\n",
      "스택이 해제됩니다.\n",
      "스택이 해제됩니다.\n",
      "스택이 해제됩니다.\n",
      "스택이 해제됩니다.\n"
     ]
    }
   ],
   "source": [
    "COUNT = 0\n",
    "\n",
    "def openBox():\n",
    "    global COUNT\n",
    "    print(f'스택이 쌓입니다. {COUNT}')\n",
    "    COUNT += 1\n",
    "    if COUNT < 10:\n",
    "        openBox()\n",
    "    print(f'스택이 해제됩니다.')\n",
    "    \n",
    "    \n",
    "\n",
    "openBox()"
   ]
  },
  {
   "cell_type": "markdown",
   "metadata": {},
   "source": [
    "### 스택 순서\n",
    "- 9     (열번째)\n",
    "- 8     (아홉번째)\n",
    "- 7     (여덟번째)\n",
    "- 6     (일곱번째)\n",
    "- 5     (여섯번째)\n",
    "- 4     (다섯째)\n",
    "- 3     (네번째)\n",
    "- 2     (세번째)\n",
    "- 1     (두번째)\n",
    "- 0     (첫번째) "
   ]
  },
  {
   "cell_type": "markdown",
   "metadata": {},
   "source": [
    "스택이 쌓이면서, 상자를 열었다가 10번 실행된다."
   ]
  },
  {
   "cell_type": "markdown",
   "metadata": {},
   "source": [
    "### COUNT == 10 이 되어 재귀호출이 끝났다.\n",
    "#### 스택 TOP 인 9 부터 나머지 함수의 명령을 실행하고 스택에서 POP 된다.\n",
    "- 9     (열번째) - 실행 후 POP\n",
    "- 8     (아홉번째) - ....\n",
    "- 7     (여덟번째)\n",
    "- 6     (일곱번째)\n",
    "- 5     (여섯번째)\n",
    "- 4     (다섯째)\n",
    "- 3     (네번째)\n",
    "- 2     (세번째)\n",
    "- 1     (두번째)\n",
    "- 0     (첫번째) "
   ]
  },
  {
   "cell_type": "markdown",
   "metadata": {},
   "source": [
    "스택이 하나씩 해제되면서 다시 돌아온다."
   ]
  },
  {
   "cell_type": "code",
   "execution_count": null,
   "metadata": {},
   "outputs": [
    {
     "data": {
      "text/plain": [
       "6"
      ]
     },
     "execution_count": 24,
     "metadata": {},
     "output_type": "execute_result"
    }
   ],
   "source": [
    "def factorial(n):\n",
    "    if n <= 1:\n",
    "        return 1\n",
    "    return n * factorial(n-1)\n",
    "\n",
    "factorial(3)"
   ]
  }
 ],
 "metadata": {
  "kernelspec": {
   "display_name": "3.11.9",
   "language": "python",
   "name": "python3"
  },
  "language_info": {
   "codemirror_mode": {
    "name": "ipython",
    "version": 3
   },
   "file_extension": ".py",
   "mimetype": "text/x-python",
   "name": "python",
   "nbconvert_exporter": "python",
   "pygments_lexer": "ipython3",
   "version": "3.11.9"
  }
 },
 "nbformat": 4,
 "nbformat_minor": 2
}
