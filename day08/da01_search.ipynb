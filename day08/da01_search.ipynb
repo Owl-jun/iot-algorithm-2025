{
 "cells": [
  {
   "cell_type": "markdown",
   "metadata": {},
   "source": [
    "### 검색 알고리즘\n",
    "- 데이터에서 해당 요소가 있는지 찾는 것\n",
    "\n",
    "#### 종류\n",
    "1. 순차\n",
    "2. 이진\n",
    "3. 트리"
   ]
  },
  {
   "cell_type": "code",
   "execution_count": 3,
   "metadata": {},
   "outputs": [
    {
     "name": "stdout",
     "output_type": "stream",
     "text": [
      "## 비교한 데이터 ==> 50 105 \n",
      "1\n"
     ]
    }
   ],
   "source": [
    "# 순차검색 함수정의\n",
    "def seqSearch(ary,data):\n",
    "    pos = -1 # 아무것도 찾지 않음\n",
    "    size = len(ary)\n",
    "    print('## 비교한 데이터 ==> ', end='')\n",
    "    for i in range(size):\n",
    "        print(ary[i], end=' ')\n",
    "        if data == ary[i]:\n",
    "            pos = i\n",
    "            break\n",
    "        elif ary[i] > data: # 정렬된 데이터에서는 더 이상 검색할 이유 X\n",
    "            break\n",
    "    print()\n",
    "    return pos\n",
    "dataAry = [ 188, 150, 168, 162,105, 120, 177, 50]\n",
    "dataAry.sort()\n",
    "print(seqSearch(dataAry,105))"
   ]
  },
  {
   "cell_type": "markdown",
   "metadata": {},
   "source": [
    "- 이진검색"
   ]
  },
  {
   "cell_type": "code",
   "execution_count": 5,
   "metadata": {},
   "outputs": [],
   "source": [
    "## 이진 검색 함수 정의\n",
    "def binSearch(ary,data):\n",
    "    pos = -1\n",
    "    start = 0\n",
    "    end = len(ary)-1\n",
    "\n",
    "    while start <= end: # start 가 끝보다 커지면 검색실패\n",
    "        mid = (start+end) // 2\n",
    "        if data == ary[mid]:\n",
    "            return mid\n",
    "        elif data > ary[mid]:\n",
    "            start = mid+1\n",
    "        elif data < ary[mid]:\n",
    "            end = mid-1\n",
    "            \n",
    "    return pos"
   ]
  },
  {
   "cell_type": "code",
   "execution_count": 7,
   "metadata": {},
   "outputs": [
    {
     "data": {
      "text/plain": [
       "7"
      ]
     },
     "execution_count": 7,
     "metadata": {},
     "output_type": "execute_result"
    }
   ],
   "source": [
    "dataAry = [50,60,105,120,150,160,162,168,177,188]\n",
    "\n",
    "pos = binSearch(dataAry,168)\n",
    "pos"
   ]
  }
 ],
 "metadata": {
  "kernelspec": {
   "display_name": "3.11.9",
   "language": "python",
   "name": "python3"
  },
  "language_info": {
   "codemirror_mode": {
    "name": "ipython",
    "version": 3
   },
   "file_extension": ".py",
   "mimetype": "text/x-python",
   "name": "python",
   "nbconvert_exporter": "python",
   "pygments_lexer": "ipython3",
   "version": "3.11.9"
  }
 },
 "nbformat": 4,
 "nbformat_minor": 2
}
